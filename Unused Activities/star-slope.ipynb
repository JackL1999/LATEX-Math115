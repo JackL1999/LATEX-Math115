{
 "cells": [
  {
   "cell_type": "code",
   "execution_count": 9,
   "id": "44ed6845",
   "metadata": {},
   "outputs": [
    {
     "name": "stdout",
     "output_type": "stream",
     "text": [
      "#1: Slope between Point 1 (3, 9) and Point 2 (0, 15) is -2.00\n",
      "#2: Slope between Point 1 (3, 9) and Point 3 (-2, 9) is -0.00\n",
      "#3: Slope between Point 1 (3, 9) and Point 4 (-4, -5) is 2.00\n",
      "#4: Slope between Point 1 (3, 9) and Point 5 (2, -11) is 20.00\n",
      "#5: Slope between Point 2 (0, 15) and Point 3 (-2, 9) is 3.00\n",
      "#6: Slope between Point 2 (0, 15) and Point 4 (-4, -5) is 5.00\n",
      "#7: Slope between Point 2 (0, 15) and Point 5 (2, -11) is -13.00\n",
      "#8: Slope between Point 3 (-2, 9) and Point 4 (-4, -5) is 7.00\n",
      "#9: Slope between Point 3 (-2, 9) and Point 5 (2, -11) is -5.00\n",
      "#10: Slope between Point 4 (-4, -5) and Point 5 (2, -11) is -1.00\n",
      "\n",
      "=============================================\n",
      "ALL UNIQUE SLOPES (Total: 10 pairs)\n",
      "[-13.0, -5.0, -2.0, -1.0, -0.0, 2.0, 3.0, 5.0, 7.0, 20.0]\n",
      "=============================================\n"
     ]
    }
   ],
   "source": [
    "import numpy as np\n",
    "\n",
    "# Points list: P[i] = [x, y]\n",
    "points = ([3, 9], [0, 15],  [-2, 9], [-4, -5], [2, -11])\n",
    "unique_slopes = []\n",
    "count = 1\n",
    "# Outer loop iterates from the first point up to the second-to-last point\n",
    "for i in range(len(points)):\n",
    "    P_i = points[i]\n",
    "    x_i, y_i = P_i[0], P_i[1]\n",
    "\n",
    "    # Inner loop only looks at points *after* the current point i\n",
    "    for j in range(i + 1, len(points)):\n",
    "        \n",
    "        P_j = points[j]\n",
    "        x_j, y_j = P_j[0], P_j[1]\n",
    "        \n",
    "        # Calculate changes\n",
    "        delta_x = x_j - x_i\n",
    "        delta_y = y_j - y_i\n",
    "\n",
    "        # Check for vertical line (zero in the denominator)\n",
    "        if delta_x == 0:\n",
    "            slope = float('inf')\n",
    "            print(f\"Slope between Point {i+1} and Point {j+1} is INFINITY (Vertical Line).\")\n",
    "        else:\n",
    "            slope = delta_y / delta_x\n",
    "            print(f\"#{count}: Slope between Point {i+1} ({x_i}, {y_i}) and Point {j+1} ({x_j}, {y_j}) is {slope:.2f}\")\n",
    "\n",
    "        # Add the unique slope to the list\n",
    "        unique_slopes.append(slope)\n",
    "        count = count + 1\n",
    "\n",
    "# Sort the unique slopes\n",
    "finite_slopes = []\n",
    "infinite_slopes = []\n",
    "\n",
    "for slope in unique_slopes:\n",
    "    if slope == float('inf'):\n",
    "        infinite_slopes.append(slope)\n",
    "    else:\n",
    "        finite_slopes.append(slope)\n",
    "\n",
    "# Sort finite slopes and combine with any infinite slopes at the end\n",
    "finite_slopes.sort()\n",
    "sorted_slopes = finite_slopes + infinite_slopes\n",
    "\n",
    "print(\"\\n\" + \"=\"*45)\n",
    "print(\"ALL UNIQUE SLOPES (Total:\", len(sorted_slopes), \"pairs)\")\n",
    "print(sorted_slopes)\n",
    "print(\"=\"*45)"
   ]
  }
 ],
 "metadata": {
  "kernelspec": {
   "display_name": "Python 3",
   "language": "python",
   "name": "python3"
  },
  "language_info": {
   "codemirror_mode": {
    "name": "ipython",
    "version": 3
   },
   "file_extension": ".py",
   "mimetype": "text/x-python",
   "name": "python",
   "nbconvert_exporter": "python",
   "pygments_lexer": "ipython3",
   "version": "3.13.2"
  }
 },
 "nbformat": 4,
 "nbformat_minor": 5
}
